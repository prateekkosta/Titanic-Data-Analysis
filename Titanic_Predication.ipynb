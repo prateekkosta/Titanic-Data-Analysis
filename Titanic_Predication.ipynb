{
  "cells": [
    {
      "cell_type": "markdown",
      "metadata": {
        "id": "view-in-github",
        "colab_type": "text"
      },
      "source": [
        "<a href=\"https://colab.research.google.com/github/prateekkosta/Titanic-Data-Analysis/blob/main/Titanic_Predication.ipynb\" target=\"_parent\"><img src=\"https://colab.research.google.com/assets/colab-badge.svg\" alt=\"Open In Colab\"/></a>"
      ]
    },
    {
      "cell_type": "code",
      "execution_count": null,
      "metadata": {
        "id": "rYKQv4IR6pLR"
      },
      "outputs": [],
      "source": [
        "#Importing All Required Libaries\n",
        "import pandas as pd\n",
        "import numpy as np\n",
        "import matplotlib.pyplot as plt\n",
        "\n",
        "from warnings import filterwarnings\n",
        "filterwarnings(action='ignore')"
      ]
    },
    {
      "cell_type": "code",
      "execution_count": null,
      "metadata": {
        "id": "UmKMUEOZ6pLY"
      },
      "outputs": [],
      "source": [
        "#Loading Datasets\n",
        "pd.set_option('display.max_columns',10,'display.width',1000)\n",
        "train = pd.read_csv('train.csv')\n",
        "test = pd.read_csv('test.csv')\n",
        "train.head()"
      ]
    },
    {
      "cell_type": "code",
      "execution_count": null,
      "metadata": {
        "id": "98_iZQAh6pLc"
      },
      "outputs": [],
      "source": [
        "#Display shape\n",
        "train.shape"
      ]
    },
    {
      "cell_type": "code",
      "execution_count": null,
      "metadata": {
        "id": "tz9G0Jjl6pLd"
      },
      "outputs": [],
      "source": [
        "test.shape"
      ]
    },
    {
      "cell_type": "code",
      "execution_count": null,
      "metadata": {
        "id": "Y30ap2U66pLf"
      },
      "outputs": [],
      "source": [
        "#Checking for Null values\n",
        "train.isnull().sum()"
      ]
    },
    {
      "cell_type": "code",
      "execution_count": null,
      "metadata": {
        "id": "K-oYDUV-6pLg"
      },
      "outputs": [],
      "source": [
        "test.isnull().sum()"
      ]
    },
    {
      "cell_type": "code",
      "execution_count": null,
      "metadata": {
        "id": "YcujbKGa6pLi"
      },
      "outputs": [],
      "source": [
        "#Description of dataset\n",
        "train.describe(include=\"all\")"
      ]
    },
    {
      "cell_type": "code",
      "execution_count": null,
      "metadata": {
        "id": "Xhsa8B2e6pLn"
      },
      "outputs": [],
      "source": [
        "train.groupby('Survived').mean()"
      ]
    },
    {
      "cell_type": "code",
      "execution_count": null,
      "metadata": {
        "id": "tgNGvErf6pLo"
      },
      "outputs": [],
      "source": [
        "train.corr()"
      ]
    },
    {
      "cell_type": "code",
      "execution_count": null,
      "metadata": {
        "id": "RYfJTLmo6pLp"
      },
      "outputs": [],
      "source": [
        "male_ind = len(train[train['Sex'] == 'male'])\n",
        "print(\"No of Males in Titanic:\",male_ind)"
      ]
    },
    {
      "cell_type": "code",
      "execution_count": null,
      "metadata": {
        "id": "pDZd1J8k6pLr"
      },
      "outputs": [],
      "source": [
        "female_ind = len(train[train['Sex'] == 'female'])\n",
        "print(\"No of Females in Titanic:\",female_ind)"
      ]
    },
    {
      "cell_type": "code",
      "execution_count": null,
      "metadata": {
        "id": "anJfajbL6pLs"
      },
      "outputs": [],
      "source": [
        "#Plotting\n",
        "fig = plt.figure()\n",
        "ax = fig.add_axes([0,0,1,1])\n",
        "gender = ['Male','Female']\n",
        "index = [577,314]\n",
        "ax.bar(gender,index)\n",
        "plt.xlabel(\"Gender\")\n",
        "plt.ylabel(\"No of people onboarding ship\")\n",
        "plt.show()"
      ]
    },
    {
      "cell_type": "code",
      "execution_count": null,
      "metadata": {
        "id": "QSrbHhSQ6pLu"
      },
      "outputs": [],
      "source": [
        "alive = len(train[train['Survived'] == 1])\n",
        "dead = len(train[train['Survived'] == 0])"
      ]
    },
    {
      "cell_type": "code",
      "execution_count": null,
      "metadata": {
        "id": "bDNwVTtd6pLu"
      },
      "outputs": [],
      "source": [
        "train.groupby('Sex')[['Survived']].mean()"
      ]
    },
    {
      "cell_type": "code",
      "execution_count": null,
      "metadata": {
        "id": "hr8Zuue56pLv"
      },
      "outputs": [],
      "source": [
        "fig = plt.figure()\n",
        "ax = fig.add_axes([0,0,1,1])\n",
        "status = ['Survived','Dead']\n",
        "ind = [alive,dead]\n",
        "ax.bar(status,ind)\n",
        "plt.xlabel(\"Status\")\n",
        "plt.show()"
      ]
    },
    {
      "cell_type": "code",
      "execution_count": null,
      "metadata": {
        "id": "86LXG8Ja6pLw"
      },
      "outputs": [],
      "source": [
        "plt.figure(1)\n",
        "train.loc[train['Survived'] == 1, 'Pclass'].value_counts().sort_index().plot.bar()\n",
        "plt.title('Bar graph of people accrding to ticket class in which people survived')\n",
        "\n",
        "\n",
        "plt.figure(2)\n",
        "train.loc[train['Survived'] == 0, 'Pclass'].value_counts().sort_index().plot.bar()\n",
        "plt.title('Bar graph of people accrding to ticket class in which people couldn\\'t survive')"
      ]
    },
    {
      "cell_type": "code",
      "execution_count": null,
      "metadata": {
        "id": "LOwl0AHG6pLw"
      },
      "outputs": [],
      "source": [
        "plt.figure(1)\n",
        "age  = train.loc[train.Survived == 1, 'Age']\n",
        "plt.title('The histogram of the age groups of the people that had survived')\n",
        "plt.hist(age, np.arange(0,100,10))\n",
        "plt.xticks(np.arange(0,100,10))\n",
        "\n",
        "\n",
        "plt.figure(2)\n",
        "age  = train.loc[train.Survived == 0, 'Age']\n",
        "plt.title('The histogram of the age groups of the people that coudn\\'t survive')\n",
        "plt.hist(age, np.arange(0,100,10))\n",
        "plt.xticks(np.arange(0,100,10))"
      ]
    },
    {
      "cell_type": "code",
      "execution_count": null,
      "metadata": {
        "id": "_eA7hGOW6pLz"
      },
      "outputs": [],
      "source": [
        "train[[\"SibSp\", \"Survived\"]].groupby(['SibSp'], as_index=False).mean().sort_values(by='Survived', ascending=False)"
      ]
    },
    {
      "cell_type": "code",
      "execution_count": null,
      "metadata": {
        "id": "V-QdfeRZ6pL0"
      },
      "outputs": [],
      "source": [
        "train[[\"Pclass\", \"Survived\"]].groupby(['Pclass'], as_index=False).mean().sort_values(by='Survived', ascending=False)"
      ]
    },
    {
      "cell_type": "code",
      "execution_count": null,
      "metadata": {
        "id": "b2IR4kbp6pL0"
      },
      "outputs": [],
      "source": [
        "train[[\"Age\", \"Survived\"]].groupby(['Age'], as_index=False).mean().sort_values(by='Age', ascending=True)"
      ]
    },
    {
      "cell_type": "code",
      "execution_count": null,
      "metadata": {
        "id": "xdPi2j1k6pL1"
      },
      "outputs": [],
      "source": [
        "train[[\"Embarked\", \"Survived\"]].groupby(['Embarked'], as_index=False).mean().sort_values(by='Survived', ascending=False)"
      ]
    },
    {
      "cell_type": "code",
      "execution_count": null,
      "metadata": {
        "id": "SnSKKUID6pL1"
      },
      "outputs": [],
      "source": [
        "fig = plt.figure()\n",
        "ax = fig.add_axes([0,0,1,1])\n",
        "ax.axis('equal')\n",
        "l = ['C = Cherbourg', 'Q = Queenstown', 'S = Southampton']\n",
        "s = [0.553571,0.389610,0.336957]\n",
        "ax.pie(s, labels = l,autopct='%1.2f%%')\n",
        "plt.show()"
      ]
    },
    {
      "cell_type": "code",
      "execution_count": null,
      "metadata": {
        "id": "pGBRQobR6pL2"
      },
      "outputs": [],
      "source": [
        "test.describe(include=\"all\")"
      ]
    },
    {
      "cell_type": "code",
      "execution_count": null,
      "metadata": {
        "id": "Fy0KF1B36pL3"
      },
      "outputs": [],
      "source": [
        "#Droping Useless Columns\n",
        "train = train.drop(['Ticket'], axis = 1)\n",
        "test = test.drop(['Ticket'], axis = 1)"
      ]
    },
    {
      "cell_type": "code",
      "execution_count": null,
      "metadata": {
        "id": "9Y0nTA7h6pL3"
      },
      "outputs": [],
      "source": [
        "train = train.drop(['Cabin'], axis = 1)\n",
        "test = test.drop(['Cabin'], axis = 1)"
      ]
    },
    {
      "cell_type": "code",
      "execution_count": null,
      "metadata": {
        "id": "bBbm7Ab_6pL4"
      },
      "outputs": [],
      "source": [
        "train = train.drop(['Name'], axis = 1)\n",
        "test = test.drop(['Name'], axis = 1)"
      ]
    },
    {
      "cell_type": "code",
      "execution_count": null,
      "metadata": {
        "id": "phbDvwDv6pL4"
      },
      "outputs": [],
      "source": [
        "#Feature Selection\n",
        "column_train=['Age','Pclass','SibSp','Parch','Fare','Sex','Embarked']\n",
        "#training values\n",
        "X=train[column_train]\n",
        "#target value\n",
        "Y=train['Survived']"
      ]
    },
    {
      "cell_type": "code",
      "execution_count": null,
      "metadata": {
        "id": "-hfVQdt96pL4"
      },
      "outputs": [],
      "source": [
        "X['Age'].isnull().sum()\n",
        "X['Pclass'].isnull().sum()\n",
        "X['SibSp'].isnull().sum()\n",
        "X['Parch'].isnull().sum()\n",
        "X['Fare'].isnull().sum()\n",
        "X['Sex'].isnull().sum()\n",
        "X['Embarked'].isnull().sum()"
      ]
    },
    {
      "cell_type": "code",
      "execution_count": null,
      "metadata": {
        "id": "DiHG8XOY6pL5"
      },
      "outputs": [],
      "source": [
        "#now we have to fill all the missing values\n",
        "#age have 177  missing values\n",
        "#either we fill missing values with mean or median form existing values\n",
        "X['Age']=X['Age'].fillna(X['Age'].median())\n",
        "X['Age'].isnull().sum()"
      ]
    },
    {
      "cell_type": "code",
      "execution_count": null,
      "metadata": {
        "id": "Yh4HYUSr6pL5"
      },
      "outputs": [],
      "source": [
        "X['Embarked'] = train['Embarked'].fillna(method ='pad')\n",
        "X['Embarked'].isnull().sum()"
      ]
    },
    {
      "cell_type": "code",
      "execution_count": null,
      "metadata": {
        "id": "x4lH0XMe6pL6"
      },
      "outputs": [],
      "source": [
        "#now we need to convert sex into integer value\n",
        "d={'male':0, 'female':1}\n",
        "X['Sex']=X['Sex'].apply(lambda x:d[x])\n",
        "X['Sex'].head()"
      ]
    },
    {
      "cell_type": "code",
      "execution_count": null,
      "metadata": {
        "id": "yTjr6Npn6pL6"
      },
      "outputs": [],
      "source": [
        "e={'C':0, 'Q':1 ,'S':2}\n",
        "X['Embarked']=X['Embarked'].apply(lambda x:e[x])\n",
        "X['Embarked'].head()"
      ]
    },
    {
      "cell_type": "code",
      "execution_count": null,
      "metadata": {
        "id": "QglGD20v6pL7"
      },
      "outputs": [],
      "source": [
        "#Training Testing and Spliting the model\n",
        "from sklearn.model_selection import train_test_split\n",
        "X_train, X_test, Y_train, Y_test = train_test_split(X,Y,test_size=0.3,random_state=7)"
      ]
    },
    {
      "cell_type": "code",
      "execution_count": null,
      "metadata": {
        "id": "PoIKeEKS6pL7"
      },
      "outputs": [],
      "source": [
        "#Using LogisticRegression\n",
        "from sklearn.linear_model import LogisticRegression\n",
        "model = LogisticRegression()\n",
        "model.fit(X_train,Y_train)\n",
        "Y_pred = model.predict(X_test)\n",
        "\n",
        "from sklearn.metrics import accuracy_score\n",
        "print(\"Accuracy Score:\",accuracy_score(Y_test,Y_pred))"
      ]
    },
    {
      "cell_type": "code",
      "execution_count": null,
      "metadata": {
        "id": "16nK58pF6pL8"
      },
      "outputs": [],
      "source": [
        "#Confusion Matrix\n",
        "from sklearn.metrics import accuracy_score,confusion_matrix\n",
        "confusion_mat = confusion_matrix(Y_test,Y_pred)\n",
        "print(confusion_mat)"
      ]
    },
    {
      "cell_type": "code",
      "execution_count": null,
      "metadata": {
        "id": "JfwxwL-e6pL9"
      },
      "outputs": [],
      "source": [
        "#Using Support Vector\n",
        "from sklearn.svm import SVC\n",
        "model1 = SVC()\n",
        "model1.fit(X_train,Y_train)\n",
        "\n",
        "pred_y = model1.predict(X_test)\n",
        "\n",
        "from sklearn.metrics import accuracy_score\n",
        "print(\"Acc=\",accuracy_score(Y_test,pred_y))"
      ]
    },
    {
      "cell_type": "code",
      "execution_count": null,
      "metadata": {
        "id": "MHkddOeV6pL9"
      },
      "outputs": [],
      "source": [
        "from sklearn.metrics import accuracy_score,confusion_matrix,classification_report\n",
        "confusion_mat = confusion_matrix(Y_test,pred_y)\n",
        "print(confusion_mat)\n",
        "print(classification_report(Y_test,pred_y))"
      ]
    },
    {
      "cell_type": "code",
      "execution_count": null,
      "metadata": {
        "id": "OlTqd-DJ6pL-"
      },
      "outputs": [],
      "source": [
        "#Using KNN Neighbors\n",
        "from sklearn.neighbors import KNeighborsClassifier\n",
        "model2 = KNeighborsClassifier(n_neighbors=5)\n",
        "model2.fit(X_train,Y_train)\n",
        "y_pred2 = model2.predict(X_test)\n",
        "\n",
        "from sklearn.metrics import accuracy_score\n",
        "print(\"Accuracy Score:\",accuracy_score(Y_test,y_pred2))"
      ]
    },
    {
      "cell_type": "code",
      "execution_count": null,
      "metadata": {
        "id": "HL174Ryt6pL-"
      },
      "outputs": [],
      "source": [
        "from sklearn.metrics import accuracy_score,confusion_matrix,classification_report\n",
        "confusion_mat = confusion_matrix(Y_test,y_pred2)\n",
        "print(confusion_mat)\n",
        "print(classification_report(Y_test,y_pred3))"
      ]
    },
    {
      "cell_type": "code",
      "execution_count": null,
      "metadata": {
        "id": "XPEvbbf-6pMJ"
      },
      "outputs": [],
      "source": [
        "#Using GaussianNB\n",
        "from sklearn.naive_bayes import GaussianNB\n",
        "model3 = GaussianNB()\n",
        "model3.fit(X_train,Y_train)\n",
        "y_pred3 = model3.predict(X_test)\n",
        "\n",
        "from sklearn.metrics import accuracy_score\n",
        "print(\"Accuracy Score:\",accuracy_score(Y_test,y_pred3))"
      ]
    },
    {
      "cell_type": "code",
      "execution_count": null,
      "metadata": {
        "id": "LuKtg7kO6pMK"
      },
      "outputs": [],
      "source": [
        "from sklearn.metrics import accuracy_score,confusion_matrix,classification_report\n",
        "confusion_mat = confusion_matrix(Y_test,y_pred3)\n",
        "print(confusion_mat)\n",
        "print(classification_report(Y_test,y_pred3))"
      ]
    },
    {
      "cell_type": "code",
      "execution_count": null,
      "metadata": {
        "id": "FYzNZzXh6pML"
      },
      "outputs": [],
      "source": [
        "#Using Decision Tree\n",
        "from sklearn.tree import DecisionTreeClassifier\n",
        "model4 = DecisionTreeClassifier(criterion='entropy',random_state=7)\n",
        "model4.fit(X_train,Y_train)\n",
        "y_pred4 = model4.predict(X_test)\n",
        "\n",
        "from sklearn.metrics import accuracy_score\n",
        "print(\"Accuracy Score:\",accuracy_score(Y_test,y_pred4))"
      ]
    },
    {
      "cell_type": "code",
      "execution_count": null,
      "metadata": {
        "id": "rJjq_X8J6pML"
      },
      "outputs": [],
      "source": [
        "from sklearn.metrics import accuracy_score,confusion_matrix,classification_report\n",
        "confusion_mat = confusion_matrix(Y_test,y_pred4)\n",
        "print(confusion_mat)\n",
        "print(classification_report(Y_test,y_pred4))"
      ]
    },
    {
      "cell_type": "code",
      "execution_count": null,
      "metadata": {
        "id": "zREn7Fzz6pMM"
      },
      "outputs": [],
      "source": [
        "results = pd.DataFrame({\n",
        "    'Model': ['Logistic Regression','Support Vector Machines', 'Naive Bayes','KNN' ,'Decision Tree'],\n",
        "    'Score': [0.75,0.66,0.76,0.66,0.74]})\n",
        "\n",
        "result_df = results.sort_values(by='Score', ascending=False)\n",
        "result_df = result_df.set_index('Score')\n",
        "result_df.head(9)"
      ]
    },
    {
      "cell_type": "code",
      "execution_count": null,
      "metadata": {
        "id": "6Ml5rGZu6pMM"
      },
      "outputs": [],
      "source": [
        "#Hence I will use Naive Bayes algorithms for training my model.\n",
        "#This project was completely made by Amber Kakkar under Project Based Learning at ICT Academy IIT Kanpur"
      ]
    }
  ],
  "metadata": {
    "kernelspec": {
      "display_name": "Python 3",
      "language": "python",
      "name": "python3"
    },
    "language_info": {
      "codemirror_mode": {
        "name": "ipython",
        "version": 3
      },
      "file_extension": ".py",
      "mimetype": "text/x-python",
      "name": "python",
      "nbconvert_exporter": "python",
      "pygments_lexer": "ipython3",
      "version": "3.7.6"
    },
    "colab": {
      "provenance": [],
      "include_colab_link": true
    }
  },
  "nbformat": 4,
  "nbformat_minor": 0
}